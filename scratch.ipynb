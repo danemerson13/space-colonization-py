{
 "cells": [
  {
   "cell_type": "code",
   "execution_count": 1,
   "metadata": {},
   "outputs": [],
   "source": [
    "import numpy as np\n",
    "import matplotlib.pyplot as plt\n",
    "import open3d as o3d\n",
    "import scipy"
   ]
  },
  {
   "cell_type": "code",
   "execution_count": 2,
   "metadata": {},
   "outputs": [],
   "source": [
    "pt1 = np.load(\"Point Clouds/liverSample1.npy\")\n",
    "pt2 = np.load(\"Point Clouds/liverSample2.npy\")\n",
    "pt3 = np.load(\"Point Clouds/liverSample3.npy\")\n",
    "pt1 = o3d.utility.Vector3dVector(pt1)\n",
    "pt2 = o3d.utility.Vector3dVector(pt2)\n",
    "pt3 = o3d.utility.Vector3dVector(pt3)\n",
    "pcd1 = o3d.geometry.PointCloud(pt1).paint_uniform_color([1,0,0])\n",
    "pcd2 = o3d.geometry.PointCloud(pt2).paint_uniform_color([0,1,0])\n",
    "pcd3 = o3d.geometry.PointCloud(pt3).paint_uniform_color([0,0,1])"
   ]
  },
  {
   "cell_type": "code",
   "execution_count": 3,
   "metadata": {},
   "outputs": [
    {
     "ename": "",
     "evalue": "",
     "output_type": "error",
     "traceback": [
      "\u001b[1;31mThe Kernel crashed while executing code in the the current cell or a previous cell. Please review the code in the cell(s) to identify a possible cause of the failure. Click <a href='https://aka.ms/vscodeJupyterKernelCrash'>here</a> for more info. View Jupyter <a href='command:jupyter.viewOutput'>log</a> for further details."
     ]
    }
   ],
   "source": [
    "o3d.visualization.draw_geometries([pcd1,pcd2,pcd3])"
   ]
  },
  {
   "cell_type": "code",
   "execution_count": 2,
   "metadata": {},
   "outputs": [
    {
     "data": {
      "text/plain": [
       "3"
      ]
     },
     "execution_count": 2,
     "metadata": {},
     "output_type": "execute_result"
    }
   ],
   "source": [
    "10//3"
   ]
  },
  {
   "cell_type": "code",
   "execution_count": null,
   "metadata": {},
   "outputs": [],
   "source": []
  }
 ],
 "metadata": {
  "kernelspec": {
   "display_name": "Python 3.8.13 ('base')",
   "language": "python",
   "name": "python3"
  },
  "language_info": {
   "codemirror_mode": {
    "name": "ipython",
    "version": 3
   },
   "file_extension": ".py",
   "mimetype": "text/x-python",
   "name": "python",
   "nbconvert_exporter": "python",
   "pygments_lexer": "ipython3",
   "version": "3.8.13"
  },
  "orig_nbformat": 4,
  "vscode": {
   "interpreter": {
    "hash": "2b6a7a2eba56590f714d8470863677bb9f31ff9131b89039bb2af5c340f95785"
   }
  }
 },
 "nbformat": 4,
 "nbformat_minor": 2
}
