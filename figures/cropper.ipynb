{
 "cells": [
  {
   "cell_type": "code",
   "execution_count": 1,
   "metadata": {},
   "outputs": [],
   "source": [
    "from PIL import Image\n",
    "import numpy as np\n",
    "import os\n",
    "\n",
    "'''\n",
    "This file is used to crop some of the white space around generated figures for the paper. It is certainly not the most efficient implementation, but it works.\n",
    "'''"
   ]
  },
  {
   "cell_type": "code",
   "execution_count": 2,
   "metadata": {},
   "outputs": [],
   "source": [
    "def trim(im):\n",
    "    imData = np.asarray(im)\n",
    "    imDataBW = np.ones(imData.shape[:-1])\n",
    "    for i in range(imData.shape[0]):\n",
    "        for j in range(imData.shape[1]):\n",
    "            if (imData[i,j,:-1] == np.array([255,255,255])).all():\n",
    "                imDataBW[i,j] = 0\n",
    "    nonEmptyCols = np.where(imDataBW.max(axis = 0)>0)[0]\n",
    "    nonEmptyRows = np.where(imDataBW.max(axis = 1)>0)[0]\n",
    "    cropBox = (min(nonEmptyRows), max(nonEmptyRows), min(nonEmptyCols), max(nonEmptyCols))\n",
    "    imDataCrop = imData[cropBox[0]:cropBox[1]+1, cropBox[2]:cropBox[3]+1, :]\n",
    "\n",
    "    return Image.fromarray(imDataCrop)"
   ]
  },
  {
   "cell_type": "code",
   "execution_count": null,
   "metadata": {},
   "outputs": [],
   "source": [
    "### DIRECTIONS ####\n",
    "\n",
    "# Set the directory using os.chdir()\n",
    "\n",
    "# name = ''\n",
    "# im = Image.open(name)\n",
    "# im = im.trim(im)\n",
    "# im.save(name)"
   ]
  },
  {
   "cell_type": "code",
   "execution_count": 3,
   "metadata": {},
   "outputs": [],
   "source": [
    "os.chdir('/Users/danemerson/Documents/CMU/01_Research/Products/Papers/Liver Perfusion Model/figures/Flows/')"
   ]
  },
  {
   "cell_type": "code",
   "execution_count": 6,
   "metadata": {},
   "outputs": [],
   "source": [
    "for file in os.listdir():\n",
    "    if os.path.isfile(file):\n",
    "        im = Image.open(file)\n",
    "        im = trim(im)\n",
    "        im.save(file)"
   ]
  }
 ],
 "metadata": {
  "kernelspec": {
   "display_name": "base",
   "language": "python",
   "name": "python3"
  },
  "language_info": {
   "codemirror_mode": {
    "name": "ipython",
    "version": 3
   },
   "file_extension": ".py",
   "mimetype": "text/x-python",
   "name": "python",
   "nbconvert_exporter": "python",
   "pygments_lexer": "ipython3",
   "version": "3.11.5"
  },
  "orig_nbformat": 4
 },
 "nbformat": 4,
 "nbformat_minor": 2
}
