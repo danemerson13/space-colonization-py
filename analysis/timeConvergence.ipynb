{
 "cells": [
  {
   "cell_type": "code",
   "execution_count": 18,
   "metadata": {},
   "outputs": [],
   "source": [
    "import matplotlib.pyplot as plt\n",
    "import numpy as np\n",
    "import pickle\n",
    "\n",
    "import sys\n",
    "import os\n",
    "\n",
    "# Adding parent directory to path\n",
    "sys.path.append(os.path.abspath(os.path.join(os.getcwd(), os.pardir)))\n",
    "from src import colony"
   ]
  },
  {
   "cell_type": "code",
   "execution_count": null,
   "metadata": {},
   "outputs": [],
   "source": [
    "filename = '../results/100SL/sample0/model.pkl'\n",
    "\n",
    "with open(filename, 'rb') as handle:\n",
    "    col = pickle.load(handle)"
   ]
  },
  {
   "cell_type": "code",
   "execution_count": 19,
   "metadata": {},
   "outputs": [
    {
     "name": "stdout",
     "output_type": "stream",
     "text": [
      "dt = 10.0000\n",
      "dt = 5.0000\n",
      "dt = 1.0000\n",
      "dt = 0.5000\n",
      "dt = 0.1000\n",
      "dt = 0.0500\n",
      "dt = 0.0100\n",
      "dt = 0.0050\n",
      "dt = 0.0010\n",
      "dt = 0.0005\n",
      "dt = 0.0001\n"
     ]
    }
   ],
   "source": [
    "# Time steps used\n",
    "dts = [1e1, 5e0, 1e0, 5e-1, 1e-1, 5e-2, 1e-2, 5e-3, 1e-3, 5e-4, 1e-4]\n",
    "\n",
    "t50list = []\n",
    "t90list = []\n",
    "t98list = []\n",
    "# Loop through the saved files and plot the\n",
    "for dt in dts:\n",
    "    filename = '../results/tConvergence/dt' + str(dt) + '/model.pkl'\n",
    "    with open(filename, 'rb') as handle:\n",
    "        col = pickle.load(handle)\n",
    "    print('dt = %.4f' %dt)\n",
    "    # Now extract the time at which total concentration exceeds a certain value\n",
    "    t50list.append(col.tList[np.argmax(np.array(col.concentrationList) > 0.5)])\n",
    "    t90list.append(col.tList[np.argmax(np.array(col.concentrationList) > 0.9)])\n",
    "    t98list.append(col.tList[np.argmax(np.array(col.concentrationList) > 0.98)])"
   ]
  },
  {
   "cell_type": "code",
   "execution_count": 20,
   "metadata": {},
   "outputs": [
    {
     "data": {
      "text/plain": [
       "<matplotlib.legend.Legend at 0x7cfaed7974c0>"
      ]
     },
     "execution_count": 20,
     "metadata": {},
     "output_type": "execute_result"
    },
    {
     "data": {
      "image/png": "[encoded data removed]",
      "text/plain": [
       "<Figure size 432x288 with 1 Axes>"
      ]
     },
     "metadata": {
      "needs_background": "light"
     },
     "output_type": "display_data"
    }
   ],
   "source": [
    "# Make plots of the t50, t90, t98 vs dt\n",
    "plt.plot(t50list, dts, 'ro', label = 't50')\n",
    "plt.plot(t90list, dts, 'bo', label = 't90')\n",
    "plt.plot(t98list, dts, 'go', label = 't98')\n",
    "plt.xlabel('Time Step, dt (sec)')\n",
    "plt.ylabel('Time to Total Concentration')\n",
    "plt.title('Time Step Convergence')\n",
    "plt.legend()"
   ]
  },
  {
   "cell_type": "code",
   "execution_count": null,
   "metadata": {},
   "outputs": [],
   "source": []
  }
 ],
 "metadata": {
  "kernelspec": {
   "display_name": "Python 3",
   "language": "python",
   "name": "python3"
  },
  "language_info": {
   "codemirror_mode": {
    "name": "ipython",
    "version": 3
   },
   "file_extension": ".py",
   "mimetype": "text/x-python",
   "name": "python",
   "nbconvert_exporter": "python",
   "pygments_lexer": "ipython3",
   "version": "3.10.12"
  }
 },
 "nbformat": 4,
 "nbformat_minor": 2
}
